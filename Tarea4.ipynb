{
 "cells": [
  {
   "cell_type": "markdown",
   "metadata": {},
   "source": [
    "# CC3001 Otoño 2020 Tarea 4"
   ]
  },
  {
   "cell_type": "markdown",
   "metadata": {},
   "source": [
    "El objetivo de esta tarea es que ustedes aprendan sobre la manipulación de árboles que representan fórmulas. Hay muchas cosas que uno puede hacer con estos árboles, y en esta tarea nos enfocaremos en algo que los compiladores hacen, que es la **generación de código** para evaluar fórmulas.\n",
    "\n",
    "Específicamente, la idea es que, dada una fórmula, generar una secuencia de instrucciones elementales que la evalúen. Por ejemplo, para la fórmula\n",
    "\n",
    "```\n",
    "(a+b)*(c-d)\n",
    "```\n",
    "\n",
    "se podría generar código como el siguiente:\n",
    "\n",
    "```\n",
    "t1=a+b\n",
    "t2=c-d\n",
    "t3=t1*t2\n",
    "```\n",
    "La idea es que las instrucciones elementales son siempre de la forma ``ti=x op y``, donde ``ti`` es una variable temporal, ``x`` e ``y`` pueden ser variables o números, y ``op`` es un operador. Uno va creando variables ``t1``, ``t2``, ... a medida que las necesita, y la última de ellas es la que almacena el valor final de la fórmula.\n",
    "\n",
    "Las fórmulas pueden ser arbitrariamente complicadas, como por ejemplo\n",
    "\n",
    "```\n",
    "(2-p*q)*(1/n+1/(p+q))\n",
    "```\n",
    "\n",
    "cuyo código generado podría ser,\n",
    "\n",
    "```\n",
    "t1=p*q\n",
    "t2=2-t1\n",
    "t3=1/n\n",
    "t4=p+q\n",
    "t5=1/t4\n",
    "t6=t3+t5\n",
    "t7=t2*t6\n",
    "```\n",
    "\n",
    "Las siguiente clases implementan árboles con un constructor que recibe un string como parámetro, el cual contiene una fórmula. El constructor se encarga de transformar la fórmula de string a árbol, de modo que ustedes no necesitan preocuparse de eso. Para simplificar, la fórmula solo puede contener variables de una sola letra, números de un solo dígito y sin espacios. Los operadores permitidos son solo suma, resta, multiplicación y división. No hay operador menos unario.\n",
    "\n",
    "Ustedes tienen que implementar para la clase ``Arbol``un método ``codigo`` que al ser invocado genera una secuencia de instrucciones elementales para evaluar la fórmula representada por ese árbol, y la retorna en forma de una lista (de Python)."
   ]
  },
  {
   "cell_type": "code",
   "execution_count": 3,
   "metadata": {},
   "outputs": [],
   "source": [
    "class Nodoi:\n",
    "    def __init__(self, izq, info, der):\n",
    "        self.izq=izq\n",
    "        self.info=info\n",
    "        self.der=der\n",
    "    def postorden(self):\n",
    "        self.izq.postorden()   \n",
    "        self.der.postorden()\n",
    "        print(self.info, end=\" \")\n",
    "\n",
    "class Nodoe:\n",
    "    def __init__(self, info):\n",
    "        self.info=info\n",
    "    def postorden(self):\n",
    "        print(self.info, end=\" \")\n",
    "\n",
    "class Arbol:\n",
    "    def __init__(self,formula):\n",
    "        global k\n",
    "        global s\n",
    "        s=formula+\";\" # agregamos una marca de fin de la entrada\n",
    "        k=0 # indica próximo caracter por procesar\n",
    "        # definimos funciones para analizar la fórmula\n",
    "        def expresion(): # retorna puntero a la raíz de un árbol que representa a la fórmula s\n",
    "            global k\n",
    "            global s\n",
    "            a=factor()\n",
    "            while s[k]==\"+\" or s[k]==\"-\":\n",
    "                op=s[k]\n",
    "                k+=1\n",
    "                b=factor()\n",
    "                a=Nodoi(a,op,b)\n",
    "            return a\n",
    "        def factor():\n",
    "            global k\n",
    "            global s\n",
    "            a=termino()\n",
    "            while s[k]==\"*\" or s[k]==\"/\":\n",
    "                op=s[k]\n",
    "                k+=1\n",
    "                b=factor()\n",
    "                a=Nodoi(a,op,b)\n",
    "            return a\n",
    "        def termino(): # posible constante, variable o formula parentizada\n",
    "            global k\n",
    "            global s\n",
    "            if s[k].isalpha() or s[k].isdigit():\n",
    "                a=Nodoe(s[k])\n",
    "                k+=1\n",
    "                return a\n",
    "            if s[k]==\"(\": # fórmula parentizada\n",
    "                k+=1\n",
    "                a=expresion()\n",
    "                if s[k]!=\")\":\n",
    "                    print(\"Error: Falta cierra paréntesis: \"+formula[k:])\n",
    "                    assert False\n",
    "                k+=1\n",
    "                return a\n",
    "            print(\"Error: Falta variable, número o abre paréntesis: \"+formula[k:])\n",
    "            assert False\n",
    "              \n",
    "        a=expresion()\n",
    "        if s[k]!=\";\":\n",
    "            print(\"Error: Basura al final de la fórmula: \"+formula[k:])\n",
    "            assert False                \n",
    "        self.raiz=a\n",
    "            \n",
    "    def postorden(self):\n",
    "        print(\"Postorden:\", end=\" \")\n",
    "        self.raiz.postorden()\n",
    "        print()\n",
    "    \n",
    "    def codigo(self):\n",
    "        # Esta es la función que tienen que escribir ustedes\n",
    "        # Por mientras, retorna una lista trivial\n",
    "        return [\"Aquí\",\"va\",\"el\",\"código\",\"generado\"]"
   ]
  },
  {
   "cell_type": "markdown",
   "metadata": {},
   "source": [
    "A continuación probamos esta funcionalidad con varias fórmulas de ejemplo. Para ver si el árbol fue construido correctamente, lo recorremos en postorden para imprimirlo en notación polaca. **Importante**: La notación polaca no tiene nada que ver con lo que ustedes tienen que hacer, es solo una manera de poder imprimir el árbol generado para chequear que esté bien construido."
   ]
  },
  {
   "cell_type": "code",
   "execution_count": 53,
   "metadata": {},
   "outputs": [
    {
     "name": "stdout",
     "output_type": "stream",
     "text": [
      "Postorden: a b + \n",
      "None\n"
     ]
    }
   ],
   "source": [
    "a=Arbol(\"a+b\")\n",
    "print(a.postorden())"
   ]
  },
  {
   "cell_type": "code",
   "execution_count": 54,
   "metadata": {},
   "outputs": [
    {
     "name": "stdout",
     "output_type": "stream",
     "text": [
      "Postorden: a b + c d - * \n",
      "None\n"
     ]
    }
   ],
   "source": [
    "a=Arbol(\"(a+b)*(c-d)\")\n",
    "print(a.postorden())"
   ]
  },
  {
   "cell_type": "code",
   "execution_count": 55,
   "metadata": {},
   "outputs": [
    {
     "name": "stdout",
     "output_type": "stream",
     "text": [
      "Postorden: 2 p q * - 1 n / 1 p q + / + * \n",
      "None\n"
     ]
    }
   ],
   "source": [
    "a=Arbol(\"(2-p*q)*(1/n+1/(p+q))\")\n",
    "print(a.postorden())"
   ]
  },
  {
   "cell_type": "markdown",
   "metadata": {},
   "source": [
    "## Acá se prueba lo que ustedes tienen que implementar"
   ]
  },
  {
   "cell_type": "markdown",
   "metadata": {},
   "source": [
    "Esta es la parte donde probamos la generación de código que tienen que escribir ustedes. Mientras no sustituyan la función ``codigo`` provisoria que viene en la definición de la clase, aparece la lista que generamos ahí:"
   ]
  },
  {
   "cell_type": "code",
   "execution_count": 5,
   "metadata": {},
   "outputs": [
    {
     "name": "stdout",
     "output_type": "stream",
     "text": [
      "Aquí\n",
      "va\n",
      "el\n",
      "código\n",
      "generado\n"
     ]
    }
   ],
   "source": [
    "a=Arbol(\"(2-p*q)*(1/n+1/(p+q))\")\n",
    "for x in a.codigo():\n",
    "    print(x)"
   ]
  },
  {
   "cell_type": "code",
   "execution_count": null,
   "metadata": {},
   "outputs": [],
   "source": []
  }
 ],
 "metadata": {
  "kernelspec": {
   "display_name": "Python 3",
   "language": "python",
   "name": "python3"
  },
  "language_info": {
   "codemirror_mode": {
    "name": "ipython",
    "version": 3
   },
   "file_extension": ".py",
   "mimetype": "text/x-python",
   "name": "python",
   "nbconvert_exporter": "python",
   "pygments_lexer": "ipython3",
   "version": "3.7.1"
  }
 },
 "nbformat": 4,
 "nbformat_minor": 2
}
