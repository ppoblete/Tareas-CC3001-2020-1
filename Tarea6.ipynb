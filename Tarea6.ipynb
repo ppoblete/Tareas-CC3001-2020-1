{
 "cells": [
  {
   "cell_type": "markdown",
   "metadata": {},
   "source": [
    "# CC3001 Otoño 2020 Tarea 6\n",
    "\n",
    "## Árboles 2-3\n",
    "\n",
    "Profesores: Sección 1 Patricio Poblete / Sección 2 Nelson Baloian\n",
    "\n",
    "Plazo: Lunes 20 de julio de 2020 a las 23:59"
   ]
  },
  {
   "cell_type": "markdown",
   "metadata": {},
   "source": [
    "El objetivo de esta tarea es que usted implemente árboles 2-3. Si ve en el apunte, para los árboles AVL aparece la implementación, pero no así para los árboles 2-3. Usted debe ayudar a completar el apunte y si lo hace bien, es posible que en el futuro aparezca su código en este capítulo.\n",
    "\n",
    "A continuación aparece algo de código para ayudarlo a partir. Hay dos tipos de nodos internos (``Nodo2`` y ``Nodo3``), según si ese nodo es binario o ternario, y un tipo de nodo externo u hoja (``Nodoe``). Además, está la clase ``Arbol23``, que es el punto de partida. Las operaciones que usted tiene que implementar son ``insert`` y ``search``.\n",
    "\n",
    "En varias partes se ha rellenado con código provisorio, para que compile. Usted debe reemplazar y completar todo lo que sea necesario para que todo funcione.\n",
    "\n",
    "El código esbozado más abajo está orientado a una implementación recursiva, la que podemos describir de la siguiente manera:\n",
    "\n",
    "* Si se inserta una llave en un nodo binario, hay que insertarla recursivamente en el hijo izquierdo o en el derecho, según corresponda. Si esto no produce un *split* del hijo, el resultado es un puntero al nodo resultante (que puede ser binario o ternario), lo cual se anota en el lugar respectivo y se retorna un puntero al nodo resultante. Pero si el hijo se divide, se recibe el resultado que es una tupla que contiene el árbol izquierdo, el árbol derecho, y la llave que los separa. Con esto este nodo tiene la información para mutar a ternario y retornar el resultado.\n",
    "\n",
    "* Si se inserta una llave en un nodo ternario hay que insertarla recursivamente en el hijo izquierdo, en el del medio o en el derecho, según corresponda. Si esto no produce un *split* del hijo, el resultado es un puntero al nodo resultante (que puede ser binario o ternario), lo cual se anota en el lugar respectivo y se retorna un puntero al nodo resultante. Pero si el hijo se divide, se recibe el resultado que es una tupla que contiene el árbol izquierdo, el árbol derecho, y la llave que los separa. Con esto este nodo tiene la información para a su vez dividirse y retornar la tupla resultante.\n",
    "\n",
    "* Lo anterior permite modelar de la misma manera la inserción en una hoja: al recibir una llave, se divide en dos hojas, y la llave entrante las separa. Esto se retorna hacia arriba en la forma de una tupla y se la da el mismo tratamiento anterior.\n",
    "\n",
    "* En la clase ``Arbol23`` hay que estar preparado para recibir una tupla como resultado de la inserción, lo cual indicaría que la raíz se dividió. En ese caso, hay que crear nodo binario para que sea la nueva raíz.\n",
    "\n",
    "La operación de búsqueda (``search``) debe retornar un puntero al nodo que contiene la llave buscada, en caso de ser exitosa, o ``None`` si es infructuosa."
   ]
  },
  {
   "cell_type": "code",
   "execution_count": 9,
   "metadata": {},
   "outputs": [],
   "source": [
    "class Nodo2:\n",
    "    def __init__(self, izq, info, der):\n",
    "        self.izq=izq\n",
    "        self.info=info\n",
    "        self.der=der\n",
    "        \n",
    "    def insert(self,x):\n",
    "        return None # Aquí hay que retornar el resultado de insertar x a partir de este punto\n",
    "    \n",
    "    def search(self,x):\n",
    "        return None # Aquí hay que retornar el resultado de buscar x a partir de este punto\n",
    "                    # Esto puede ser un puntero al nodo en donde está x, o None si no está\n",
    "        \n",
    "    def string(self):\n",
    "        return (\"(\"+self.izq.string()\n",
    "                +str(self.info)\n",
    "                +self.der.string()+\")\")\n",
    "\n",
    "class Nodo3:\n",
    "    def __init__(self, izq, info1, med, info2, der):\n",
    "        self.izq=izq\n",
    "        self.info1=info1\n",
    "        self.med=med\n",
    "        self.info2=info2\n",
    "        self.der=der\n",
    "        \n",
    "    def insert(self,x):\n",
    "        return None # Aquí hay que retornar el resultado de insertar x a partir de este punto\n",
    "    \n",
    "    def search(self,x):\n",
    "        return None # Aquí hay que retornar el resultado de buscar x a partir de este punto\n",
    "                    # Esto puede ser un puntero al nodo en donde está, o None si no está\n",
    "        \n",
    "    def string(self):\n",
    "        return (\"(\"+self.izq.string()\n",
    "                +str(self.info1)\n",
    "                +self.med.string()\n",
    "                +str(self.info2)\n",
    "                +self.der.string()+\")\")    \n",
    "    \n",
    "class Nodoe:\n",
    "    def __init__(self):\n",
    "        pass\n",
    "    \n",
    "    def insert(self,x): \n",
    "        return None # Aquí hay que retornar el resultado de insertar x a partir de este punto\n",
    "    \n",
    "    def string(self):\n",
    "        return\"☐\"\n",
    "\n",
    "class Arbol23:\n",
    "    def __init__(self,raiz=Nodoe()):\n",
    "        self.raiz=raiz     \n",
    "        \n",
    "    def insert(self,x):\n",
    "        self.raiz=self.raiz.insert(x)   # Esto funciona casi siempre, excepto cuando la antigua raíz se divide\n",
    "                                        # Usted tiene que poner algo que funcione siempre\n",
    "        \n",
    "    def search(self,x):\n",
    "        return self.raiz.search(x)\n",
    "    \n",
    "    def imprimir(self):        \n",
    "        print(self.raiz.string())"
   ]
  },
  {
   "cell_type": "markdown",
   "metadata": {},
   "source": [
    "Para probar este código, vamos a construir \"a mano\" el árbol 2-3 que aparece en el apunte, y luego imprimirlo:"
   ]
  },
  {
   "cell_type": "code",
   "execution_count": 10,
   "metadata": {},
   "outputs": [],
   "source": [
    "a=Nodo3(Nodo2(Nodoe(),10,Nodoe()),25,Nodo3(Nodoe(),32,Nodoe(),48,Nodoe()),57,Nodo2(Nodoe(),74,Nodoe()))"
   ]
  },
  {
   "cell_type": "code",
   "execution_count": 11,
   "metadata": {},
   "outputs": [
    {
     "name": "stdout",
     "output_type": "stream",
     "text": [
      "((☐10☐)25(☐32☐48☐)57(☐74☐))\n"
     ]
    }
   ],
   "source": [
    "print(a.string())"
   ]
  },
  {
   "cell_type": "markdown",
   "metadata": {},
   "source": [
    "Pruebe su código comenzando con un árbol vacío e insertando la siguiente secuencia de llaves:\n",
    "\n",
    "```\n",
    "3, 1, 4, 5, 9, 6, 2\n",
    "```\n",
    "\n",
    "Imprima el árbol resultante después de cada inserción. A continuación, busque \"2\", busque \"3\" y busque \"7\"."
   ]
  },
  {
   "cell_type": "markdown",
   "metadata": {},
   "source": [
    "## ¿Qué hay que entregar?\n",
    "\n",
    "Usted debe entregar este mismo archivo, modificado de acuerdo a lo que se pide. Haga todos los cambios necesarios para explicar y documentar adecuadamente su código. No olvide poner su nombre."
   ]
  }
 ],
 "metadata": {
  "kernelspec": {
   "display_name": "Python 3",
   "language": "python",
   "name": "python3"
  },
  "language_info": {
   "codemirror_mode": {
    "name": "ipython",
    "version": 3
   },
   "file_extension": ".py",
   "mimetype": "text/x-python",
   "name": "python",
   "nbconvert_exporter": "python",
   "pygments_lexer": "ipython3",
   "version": "3.7.1"
  }
 },
 "nbformat": 4,
 "nbformat_minor": 2
}
