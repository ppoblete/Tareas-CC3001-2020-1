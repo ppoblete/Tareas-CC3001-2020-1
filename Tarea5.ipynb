{
 "cells": [
  {
   "cell_type": "markdown",
   "metadata": {},
   "source": [
    "# CC3001 Otoño 2020 Tarea 5\n",
    "# Simulación con Colas y Colas de Prioridad\n",
    "\n",
    "Profesores: Sección 1 Patricio Poblete / Sección 2 Nelson Baloian\n",
    "\n",
    "Plazo: Lunes 22 de junio de 2020 a las 23:59"
   ]
  },
  {
   "cell_type": "markdown",
   "metadata": {},
   "source": [
    "El objetivo de esta tarea es aprender a escribir programas de simulación sencillos, haciendo uso de colas y de colas de prioridad.\n",
    "\n",
    "En primer lugar, consideremos una caja a la que van llegando clientes en instantes aleatorios, separados por intervalos de tamaño promedio $t_a$. Cada cliente que llega se pone al final de la cola, espera su turno, y cuando llega a la cabeza de la cola lo empiezan a atender. La atención dura también un tiempo aleatorio de tamaño promedio $t_s$. Cuando completa su atención, sale del sistema, y en la caja se empieza a atender al siguiente cliente de la cola, en caso de que haya alguien.\n",
    "\n",
    "![colaT5](colaT5.png)\n",
    "\n",
    "Los tiempos entre llegadas y el tiempo de atención se modelan con distribuciones exponenciales, lo cual es la suposición usual en este tipo de simulaciones.\n",
    "\n",
    "A continuación veremos un programa que simula este proceso para un número dado de clientes y calcula el largo promedio de la cola y la demora total promedio de los clientes.\n",
    "\n",
    "El programa lleva un reloj simulado, que comienza en cero y va  avanzando monótonamente, al siguiente instante en que un cliente llega al sistema o al siguiente instante en que un cliente sale del sistema, lo que sea que ocurra primero.\n",
    "\n",
    "Como hay solo dos tipos posible de eventos de interés, tendremos una variable para cada uno de ellos (``evento_llegada`` y ``evento_salida``), que almacenan los respectivos tiempos. Si en este momento no hay nadie que deba salir del sistema, ``evento_salida`` es ``None``, lo cual ocurre cada vez que la cola de espera queda vacía. En cambio, ``evento_llegada`` solo es ``None``cuando ya han llegado todos los clientes que debían llegar.\n",
    "\n",
    "Nótese que no es necesario tener generados los tiempos de todas las llegadas futuras, basta con tener el tiempo de la próxima llegada, y cuando ella se cumple se genera la siguiente.\n",
    "\n",
    "En cada elemento que está en la cola de espera anotamos solo la hora a la que llegó ese cliente, que es lo único que necesitamos saber para poder calcular, en el momento en que sale, cuánto tiempo demoró en el sistema.\n",
    "\n",
    "Estudie con atención este programa y la bitácora que él genera."
   ]
  },
  {
   "cell_type": "code",
   "execution_count": 48,
   "metadata": {},
   "outputs": [],
   "source": [
    "import numpy as np\n",
    "class Cola:\n",
    "    def __init__(self):\n",
    "        self.q=[]\n",
    "    def enq(self,x):\n",
    "        self.q.insert(0,x)\n",
    "    def deq(self):\n",
    "        assert len(self.q)>0\n",
    "        return self.q.pop()\n",
    "    def is_empty(self):\n",
    "        return len(self.q)==0\n",
    "    def size(self):\n",
    "        return len(self.q)\n",
    "\n",
    "def print_list(L):\n",
    "    for x in L:\n",
    "        print(x)\n",
    "\n",
    "def simula(maxclientes,ta,ts,debug=False):\n",
    "    # simula el paso de maxclientes clientes por el sistema,\n",
    "    # ta = tiempo promedio entre llegadas (arrivals)\n",
    "    # ts = tiempo promedio de servicio\n",
    "    # maxclientes = número maximo de clientes para la simulacion\n",
    "    # debug = True => genera bitácora y usa secuencia aleatoria reproducible\n",
    "    # retorna (largo promedio de la cola, tiempo promedio en el sistema)\n",
    "\n",
    "    if debug:\n",
    "        np.random.seed(1234)\n",
    "    ahora=0 # tiempo simulado\n",
    "    nclientes=0 # número de clientes que han llegado\n",
    "    c=Cola()\n",
    "    evento_llegada=np.random.exponential(ta)\n",
    "    evento_salida=None\n",
    "    acum_largo_cola=0 # acumula largo de la cola para sacar promedio al final\n",
    "    acum_tiempo_en_sistema=0 # acumula tiempos en el sistema para sacar promedio al final\n",
    "    bitacora=[] # En caso que se pida debug\n",
    "    \n",
    "    while evento_llegada is not None or evento_salida is not None:\n",
    "        # Ver si el próximo evento que toca que ocurra es la llegada o la salida de un cliente\n",
    "        if (evento_salida is None) or (evento_llegada is not None and (evento_llegada<=evento_salida)):\n",
    "            # Llega un cliente, avanzamos el tiempo simulado a la hora en que llega\n",
    "            ahora=evento_llegada\n",
    "            nclientes+=1\n",
    "            \n",
    "            if debug:\n",
    "                bitacora.append(\"T=\"+str(ahora)+\n",
    "                                \" evento_llegada=\"+str(evento_llegada)+\" evento_salida=\"+str(evento_salida)+\n",
    "                                \" => LLEGADA\"+\n",
    "                                \"\\n\\tcola=\"+str(c.q))\n",
    "            # El cliente que acaba de llegar se pone a la cola\n",
    "            c.enq(ahora) # Basta anotar su hora de llegada\n",
    "            acum_largo_cola+=c.size()\n",
    "            \n",
    "            if c.size()==1: # la cola estaba vacía, lo empezamos a atender de inmediato\n",
    "                evento_salida=ahora+np.random.exponential(ts) # programamos su hora de salida\n",
    "            \n",
    "            if nclientes<maxclientes: # programamos la hora de llegada del siguiente cliente\n",
    "                evento_llegada=ahora+np.random.exponential(ta)\n",
    "            else:\n",
    "                evento_llegada=None\n",
    "        else:               \n",
    "            # Termina de atenderse un cliente, avanzamos el tiempo simulado a la hora en que sale\n",
    "            ahora=evento_salida\n",
    "            if debug:\n",
    "                bitacora.append(\"T=\"+str(ahora)+\n",
    "                                \" evento_llegada=\"+str(evento_llegada)+\" evento_salida=\"+str(evento_salida)+\n",
    "                                \" => SALIDA\"+\n",
    "                                \"\\n\\tcola=\"+str(c.q))\n",
    "            tllegada=c.deq() # sacamos al cliente de la cola\n",
    "            acum_tiempo_en_sistema+=(ahora-tllegada)\n",
    "            \n",
    "            if c.is_empty(): # no hay nadie en la cola\n",
    "                evento_salida=None\n",
    "            else: # Hay un cliente esperando, empezamos a atenderlo\n",
    "                evento_salida=ahora+np.random.exponential(ts) # programamos su hora de salida\n",
    "    \n",
    "    return (acum_largo_cola/maxclientes,acum_tiempo_en_sistema/maxclientes,bitacora)            "
   ]
  },
  {
   "cell_type": "code",
   "execution_count": 52,
   "metadata": {},
   "outputs": [
    {
     "name": "stdout",
     "output_type": "stream",
     "text": [
      "Largo promedio de la cola= 1.9  Tiempo promedio en el sistema= 138.02762271192722\n"
     ]
    }
   ],
   "source": [
    "(cola,demora,bitacora)=simula(10,100,75,debug=True)\n",
    "print(\"Largo promedio de la cola=\",cola,\" Tiempo promedio en el sistema=\",demora)"
   ]
  },
  {
   "cell_type": "code",
   "execution_count": 53,
   "metadata": {},
   "outputs": [
    {
     "name": "stdout",
     "output_type": "stream",
     "text": [
      "T=21.25986576184801 evento_llegada=21.25986576184801 evento_salida=None => LLEGADA\n",
      "\tcola=[]\n",
      "T=78.83677538497456 evento_llegada=78.83677538497456 evento_salida=94.24603167524747 => LLEGADA\n",
      "\tcola=[21.25986576184801]\n",
      "T=94.24603167524747 evento_llegada=232.71542283099382 evento_salida=94.24603167524747 => SALIDA\n",
      "\tcola=[78.83677538497456, 21.25986576184801]\n",
      "T=207.7973648436669 evento_llegada=232.71542283099382 evento_salida=207.7973648436669 => SALIDA\n",
      "\tcola=[78.83677538497456]\n",
      "T=232.71542283099382 evento_llegada=232.71542283099382 evento_salida=None => LLEGADA\n",
      "\tcola=[]\n",
      "T=256.5855663702635 evento_llegada=265.07595569718336 evento_salida=256.5855663702635 => SALIDA\n",
      "\tcola=[232.71542283099382]\n",
      "T=265.07595569718336 evento_llegada=265.07595569718336 evento_salida=None => LLEGADA\n",
      "\tcola=[]\n",
      "T=386.489172340086 evento_llegada=582.4168679105603 evento_salida=386.489172340086 => SALIDA\n",
      "\tcola=[265.07595569718336]\n",
      "T=582.4168679105603 evento_llegada=582.4168679105603 evento_salida=None => LLEGADA\n",
      "\tcola=[]\n",
      "T=626.7051068662289 evento_llegada=626.7051068662289 evento_salida=738.9366623619304 => LLEGADA\n",
      "\tcola=[582.4168679105603]\n",
      "T=696.2190483450556 evento_llegada=696.2190483450556 evento_salida=738.9366623619304 => LLEGADA\n",
      "\tcola=[626.7051068662289, 582.4168679105603]\n",
      "T=738.9366623619304 evento_llegada=811.2505419244258 evento_salida=738.9366623619304 => SALIDA\n",
      "\tcola=[696.2190483450556, 626.7051068662289, 582.4168679105603]\n",
      "T=811.2505419244258 evento_llegada=811.2505419244258 evento_salida=832.4793149848136 => LLEGADA\n",
      "\tcola=[696.2190483450556, 626.7051068662289]\n",
      "T=832.4793149848136 evento_llegada=857.4938981550002 evento_salida=832.4793149848136 => SALIDA\n",
      "\tcola=[811.2505419244258, 696.2190483450556, 626.7051068662289]\n",
      "T=857.4938981550002 evento_llegada=857.4938981550002 evento_salida=894.2570294009206 => LLEGADA\n",
      "\tcola=[811.2505419244258, 696.2190483450556]\n",
      "T=894.2570294009206 evento_llegada=927.427158306087 evento_salida=894.2570294009206 => SALIDA\n",
      "\tcola=[857.4938981550002, 811.2505419244258, 696.2190483450556]\n",
      "T=895.296837936396 evento_llegada=927.427158306087 evento_salida=895.296837936396 => SALIDA\n",
      "\tcola=[857.4938981550002, 811.2505419244258]\n",
      "T=927.427158306087 evento_llegada=927.427158306087 evento_salida=1006.4499708056504 => LLEGADA\n",
      "\tcola=[857.4938981550002]\n",
      "T=1006.4499708056504 evento_llegada=None evento_salida=1006.4499708056504 => SALIDA\n",
      "\tcola=[927.427158306087, 857.4938981550002]\n",
      "T=1167.1389175826548 evento_llegada=None evento_salida=1167.1389175826548 => SALIDA\n",
      "\tcola=[927.427158306087]\n"
     ]
    }
   ],
   "source": [
    "print_list(bitacora)"
   ]
  },
  {
   "cell_type": "markdown",
   "metadata": {},
   "source": [
    "## Lo que usted tiene que hacer"
   ]
  },
  {
   "cell_type": "markdown",
   "metadata": {},
   "source": [
    "### 1. Mejorar este programa introduciendo una cola de prioridad\n",
    "\n",
    "El programa está escrito sabiendo que puede haber dos tipos de eventos por ocurrir (LLEGADA y SALIDA) y que en todo momento puede haber a lo más solo uno de cada tipo.\n",
    "\n",
    "En una situación más general, podría haber eventos de muchos tipos programados para ocurrir, en muchos instantes distintos. En ese caso, la implementación presentada es demasiado limitada, y se requiere un mecanismo más general para administrar esa lista de eventos futuros. Una *cola de prioridad* (usando el tiempo como prioridad, y en que el mínimo tiempo equivale a mejor prioridad) es la estructura adecuada, porque en esa lista de eventos futuros siempre vamos extrayendo el primero que debe ocurrir (el mínimo), y durante la ejecución se pueden generar nuevos elementos programados para ocurrir en el futuro (inserciones).\n",
    "\n",
    "En preparación a poder simular modelos más complejos, lo que usted tiene que hacer es implementar una lista de eventos futuros mediante uan cola de prioridad, en la cual se almacenen pares de la forma\n",
    "\n",
    "$$\n",
    "(\\text{tiempo},\\text{tipo de evento})\n",
    "$$\n",
    "\n",
    "y modificar el programa para que utilice esa cola de prioridad en lugar de las variables ``evento_salida`` y ``evento_llegada``. Implemente la cola de prioridad en base al código para heaps que aparece en el apunte.\n",
    "\n",
    "Sugerencias: Antes del while, encolar el primer evento de llegada, luego en cada iteración sacar un evento de la cola de prioridad y procesarlo, y cuando en el programa original se generaba un evento nuevo y se asignaba a la variable respectiva, ahora hay que insertar un nuevo evento del tipo correspondiente en la cola de prioridad.\n",
    "\n",
    "El programa resultante debiera ser más simple, porque varias cosas se unifican al verlas de esta manera.\n",
    "\n",
    "Ejecute ambos programas en modo ``debug`` y asegúrese que en las bitácoras resultantes los eventos que ocurren y sus tiempos sean idénticos."
   ]
  },
  {
   "cell_type": "markdown",
   "metadata": {},
   "source": [
    "## 2. Modificar el modelo para introducir un tiempo comprando\n",
    "\n",
    "A continuación, introduciremos un elemento adicional en el modelo, y usted debe modificar su programa para incluirlo.\n",
    "\n",
    "Supondremos que una vez que un cliente llega, en lugar de ponerse a la cola de inmediato, pasa un rato en la tienda comprando, y una vez que termina (después de transcurrido un tiempo aleatorio de duración promedio $t_c$), en ese momento recién se pone a la cola para pagar en la caja.\n",
    "\n",
    "![cola2T5](cola2T5.png)\n",
    "\n",
    "Observe que, como puede haber muchos clientes en la tienda que aún no terminan de comprar, en la lista de eventos futuros ahora puede haber muchos eventos de un nuevo tipo (FINCOMPRA), lo que justifica el haber introducido la cola de prioridad.\n",
    "\n",
    "Ejecute su programa en modo ``debug`` agregando un parámetro $t_c=300$ e imprima el largo promedio de la cola, la demora total promedio de los clientes y la bitácora."
   ]
  },
  {
   "cell_type": "markdown",
   "metadata": {},
   "source": [
    "## 3. ¿Qué hay que entregar?\n",
    "\n",
    "Usted debe entregar este mismo archivo, modificado de acuerdo a lo que se pide. Haga todos los cambios necesarios para explicar y documentar adecuadamente su código. No olvide poner su nombre."
   ]
  }
 ],
 "metadata": {
  "kernelspec": {
   "display_name": "Python 3",
   "language": "python",
   "name": "python3"
  },
  "language_info": {
   "codemirror_mode": {
    "name": "ipython",
    "version": 3
   },
   "file_extension": ".py",
   "mimetype": "text/x-python",
   "name": "python",
   "nbconvert_exporter": "python",
   "pygments_lexer": "ipython3",
   "version": "3.7.1"
  }
 },
 "nbformat": 4,
 "nbformat_minor": 2
}
